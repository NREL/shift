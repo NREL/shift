{
 "cells": [
  {
   "cell_type": "markdown",
   "metadata": {},
   "source": [
    "# Synthetic Feeder Generation Demo 1\n",
    "\n",
    "\n",
    "In this tutorial we are going to create a synthetic distribution feeder model by leveraging OpenStreet buildings as well as road data in from Chennai, India.\n",
    "\n",
    "1. [Generating power system loads from Geometry objects](#load_to_geometry)\n",
    "2. [Using clustering algorithms to create distribution transformers to serve loads](#dist_trans)\n",
    "3. [ Generating high tension acyclic undirected network to connect distribution transformers using road network from OpenStreet data](#primary_network)\n",
    "4. [Generating HT lines from primary network](#ht_lines)\n",
    "5. [Generating secondary network](#lt_lines)\n",
    "\n",
    "\n",
    "Developed by: Kapil Duwadi (Kapil.Duwadi@nrel.gov) \n",
    "\n",
    "2022-03-16\n"
   ]
  },
  {
   "cell_type": "markdown",
   "metadata": {},
   "source": [
    "Let's get the styling out of the way first. I like to see the width little bit bigger than what is there by default."
   ]
  },
  {
   "cell_type": "code",
   "execution_count": null,
   "metadata": {},
   "outputs": [],
   "source": [
    "from IPython.display import display, HTML\n",
    "display(HTML(\"<style>.container { width:80% !important; }</style>\"))"
   ]
  },
  {
   "cell_type": "markdown",
   "metadata": {},
   "source": [
    "<a name=\"load_to_geometry\"></a>\n",
    "### 1. Generating power system loads from Geometry objects\n",
    "Let's get all the buildings from chennai India and print total number of builidings along with sample building."
   ]
  },
  {
   "cell_type": "code",
   "execution_count": null,
   "metadata": {
    "scrolled": true
   },
   "outputs": [],
   "source": [
    "from geometry import BuildingsFromPlace\n",
    "g = BuildingsFromPlace(\"Chennai, India\")\n",
    "geometries = g.get_geometries()\n",
    "print(f\"Total number of buildings: {len(geometries)}\\nSample geometry: {geometries[0]}\")"
   ]
  },
  {
   "cell_type": "markdown",
   "metadata": {},
   "source": [
    "In order to create power system loads from geometries we need to tell how to assign phases, voltage and connection type for loads. In this case let's use RandomPhaseAllocator class to allocate phases to all geometries. Here we are saying all geometries are of single phase type and there are no two phase and three phase loads and finally pass all the geometries.\n",
    "\n",
    "Similarly we initialize simple voltage setter by passing line to line voltage of 13.2 kV. DefaultConnSetter class is created which will set the connection type to 'wye' for all geometries."
   ]
  },
  {
   "cell_type": "code",
   "execution_count": null,
   "metadata": {},
   "outputs": [],
   "source": [
    "from load_builder import (RandomPhaseAllocator, SimpleVoltageSetter, DefaultConnSetter)\n",
    "rpa = RandomPhaseAllocator(100, 0, 0, geometries)\n",
    "svs = SimpleVoltageSetter(13.2)\n",
    "dcs = DefaultConnSetter()"
   ]
  },
  {
   "cell_type": "markdown",
   "metadata": {},
   "source": [
    "But wait how do we get power consumption data for the load. In order get consumption let's use building area info to get the kw.\n",
    "Let's say we know there is a piecewise linear function that relates building area with peak kW consumption."
   ]
  },
  {
   "cell_type": "code",
   "execution_count": null,
   "metadata": {},
   "outputs": [],
   "source": [
    "area_to_kw_curve = [(0,5), (10, 5.0), (20, 18), (50, 30)]\n",
    "import matplotlib.pyplot as plt\n",
    "plt.plot([x[0] for x in area_to_kw_curve], [x[1] for x in area_to_kw_curve])\n",
    "plt.xlabel('Area in meter square')\n",
    "plt.ylabel('Peak consumption in kW')\n",
    "plt.grid()\n",
    "plt.show()"
   ]
  },
  {
   "cell_type": "markdown",
   "metadata": {},
   "source": [
    "In order to use this piecewise linear function we can invoke PiecewiseBuildingAreaToConsumptionConverter class from load_builder and pass it as an argument to build the load. Let's see this class in action.\n"
   ]
  },
  {
   "cell_type": "code",
   "execution_count": null,
   "metadata": {},
   "outputs": [],
   "source": [
    "from load_builder import PiecewiseBuildingAreaToConsumptionConverter\n",
    "pbacc = PiecewiseBuildingAreaToConsumptionConverter(area_to_kw_curve)\n",
    "area = 15\n",
    "print(f\"For area of {area} m^2 the consumption would be {pbacc.convert(area)}\")"
   ]
  },
  {
   "cell_type": "markdown",
   "metadata": {},
   "source": [
    "Let's build the loads from the geometries and print one them. Here let's try to build constant power factor of 1.0 type loads for simplicity.\n"
   ]
  },
  {
   "cell_type": "code",
   "execution_count": null,
   "metadata": {},
   "outputs": [],
   "source": [
    "from load_builder import ConstantPowerFactorBuildingGeometryLoadBuilder\n",
    "from load_builder import LoadBuilderEngineer\n",
    "loads = []\n",
    "for g in geometries:\n",
    "    builder = ConstantPowerFactorBuildingGeometryLoadBuilder(g, rpa, pbacc, svs, dcs, 1.0)\n",
    "    b = LoadBuilderEngineer(builder)\n",
    "    loads.append(b.get_load())\n",
    "print(len(loads), loads[0], loads[1])"
   ]
  },
  {
   "cell_type": "markdown",
   "metadata": {},
   "source": [
    "Let's visualize these loads on top of GIS map. That would be cool right ?. In order to do that let's invoke two layer distribution network first."
   ]
  },
  {
   "cell_type": "code",
   "execution_count": null,
   "metadata": {},
   "outputs": [],
   "source": [
    "from feeder_network import SimpleTwoLayerDistributionNetworkBuilder, TwoLayerNetworkBuilderDirector\n",
    "network_builder = SimpleTwoLayerDistributionNetworkBuilder()\n",
    "network = TwoLayerNetworkBuilderDirector(loads, [], [], [], network_builder)"
   ]
  },
  {
   "cell_type": "code",
   "execution_count": null,
   "metadata": {
    "scrolled": false
   },
   "outputs": [],
   "source": [
    "from network_plots import PlotlyGISNetworkPlot\n",
    "from constants import PLOTLY_FORMAT_CUSTOMERS_ONLY\n",
    "API_KEY = 'pk.eyJ1Ijoia2R1d2FkaSIsImEiOiJja3cweHpmM3YwYnk3MnVwamphNTd1ZG44In0.tsKgUvzpPVi4m1p3ekedaQ'\n",
    "p = PlotlyGISNetworkPlot(\n",
    "        network.get_network(),\n",
    "        API_KEY,\n",
    "        'satellite',\n",
    "        asset_specific_style=PLOTLY_FORMAT_CUSTOMERS_ONLY\n",
    "    )\n",
    "p.show()"
   ]
  },
  {
   "cell_type": "markdown",
   "metadata": {},
   "source": [
    "<a name=\"dist_trans\"></a>\n",
    "### 2. Using clustering algorithms to create distribution transformers to serve loads\n",
    "Next step is to use clustering algorithm to figure out best location for positioning distribution transformers. Kmeans clustering is one way of doing this. Let's say we want to have 20 disribution transformers for this feeder."
   ]
  },
  {
   "cell_type": "code",
   "execution_count": null,
   "metadata": {},
   "outputs": [],
   "source": [
    "from clustering import KmeansClustering\n",
    "import numpy as np\n",
    "x_array = np.array([[load.longitude, load.latitude] for load in loads])\n",
    "# Try to use kW, along with location information for clustering \n",
    "cluster_ = KmeansClustering(20)\n",
    "clusters = cluster_.get_clusters(x_array)\n",
    "#print(f'Optimal number of clusters: {cluster_.optimal_clusters}')\n",
    "#cluster_.plot_scores()\n",
    "cluster_.plot_clusters()"
   ]
  },
  {
   "cell_type": "markdown",
   "metadata": {},
   "source": [
    "Let's use clustering algorithm to position distribution transformers. In order to create transformers from clusters we need to provide list of loads, clustering object, kV and connection type for both high tension and low tension side of transformers along with number of phase to be used to design transformers. The diversity factor function, power factor and adjustment_factor is used to compute kVA capacity for the transformer. The catalog is used to find nearest transformer capacity. Let's print the catalog and transformers."
   ]
  },
  {
   "cell_type": "code",
   "execution_count": null,
   "metadata": {},
   "outputs": [],
   "source": [
    "from transformer_builder import ClusteringBasedTransformerLoadMapper\n",
    "from enums import TransformerConnection, NumPhase\n",
    "\n",
    "# Planned years of operation\n",
    "# Actual years of operation\n",
    "# Assumed forecasted annual load growth\n",
    "# Actual annual growth rate\n",
    "# Adjustment factor\n",
    "\n",
    "trans_builder = ClusteringBasedTransformerLoadMapper(\n",
    "    loads,\n",
    "    clustering_object = cluster_,\n",
    "    diversity_factor_func = lambda x: 0.3908524*np.log(x) + 1.65180707,\n",
    "    ht_kv = 13.2,\n",
    "    lt_kv = 0.4,\n",
    "    ht_conn = TransformerConnection.DELTA,\n",
    "    lt_conn = TransformerConnection.STAR,\n",
    "    num_phase = NumPhase.THREE,\n",
    "    power_factor=0.9,\n",
    "    adjustment_factor=1.15\n",
    ")\n",
    "t  = trans_builder.get_transformer_load_mapping()"
   ]
  },
  {
   "cell_type": "markdown",
   "metadata": {},
   "source": [
    "Let's visualize the loads and transformers in GIS map."
   ]
  },
  {
   "cell_type": "code",
   "execution_count": null,
   "metadata": {},
   "outputs": [],
   "source": [
    "from constants import PLOTLY_FORMAT_CUSTOMERS_AND_DIST_TRANSFORMERS_ONLY\n",
    "network = TwoLayerNetworkBuilderDirector(loads, list(t.keys()), [], [], network_builder)\n",
    "p = PlotlyGISNetworkPlot(\n",
    "        network.get_network(),\n",
    "        API_KEY,\n",
    "        'satellite',\n",
    "        asset_specific_style=PLOTLY_FORMAT_CUSTOMERS_AND_DIST_TRANSFORMERS_ONLY\n",
    "    )\n",
    "p.show()"
   ]
  },
  {
   "cell_type": "markdown",
   "metadata": {},
   "source": [
    "<a name=\"primary_network\"></a>\n",
    "### 3. Generating high tension acyclic undirected network to connect distribution transformers using road network from OpenStreet data\n",
    "Let's try to get road network from chennai india. We will convert the road network to undirected graph and use minimum spanning tree to remove any loops. "
   ]
  },
  {
   "cell_type": "code",
   "execution_count": null,
   "metadata": {},
   "outputs": [],
   "source": [
    "from graph import RoadNetworkFromPlace\n",
    "from constants import PLOTLY_FORMAT_SIMPLE_NETWORK\n",
    "graph = RoadNetworkFromPlace('chennai, india')\n",
    "graph.get_network()\n",
    "p = PlotlyGISNetworkPlot(\n",
    "            graph.updated_network,\n",
    "            API_KEY,\n",
    "            'dark',\n",
    "            asset_specific_style=PLOTLY_FORMAT_SIMPLE_NETWORK\n",
    "        )\n",
    "p.show()"
   ]
  },
  {
   "cell_type": "markdown",
   "metadata": {},
   "source": [
    "Let's create an instance of Primary Network Builder class and visulaize the generated network."
   ]
  },
  {
   "cell_type": "code",
   "execution_count": null,
   "metadata": {},
   "outputs": [],
   "source": [
    "from primary_network_builder import PrimaryNetworkFromRoad\n",
    "pnet = PrimaryNetworkFromRoad(\n",
    "        graph,\n",
    "        t,\n",
    "        (80.2786311, 13.091658),\n",
    "        lambda x: 0.3908524*np.log(x) + 1.65180707,\n",
    "        13.2,\n",
    "        100\n",
    "    )\n",
    "pnet.update_network_with_ampacity()\n",
    "p = PlotlyGISNetworkPlot(\n",
    "            pnet.get_sliced_graph(),\n",
    "            API_KEY,\n",
    "            'dark',\n",
    "            asset_specific_style=PLOTLY_FORMAT_SIMPLE_NETWORK\n",
    "        )\n",
    "p.show()\n",
    "p = PlotlyGISNetworkPlot(\n",
    "            pnet.get_primary_network(),\n",
    "            API_KEY,\n",
    "            'dark',\n",
    "            asset_specific_style=PLOTLY_FORMAT_SIMPLE_NETWORK\n",
    "        )\n",
    "p.show()"
   ]
  },
  {
   "cell_type": "markdown",
   "metadata": {},
   "source": [
    "Let's try to plot ampacity of primary line section versus how far it is from the substation."
   ]
  },
  {
   "cell_type": "markdown",
   "metadata": {
    "scrolled": true
   },
   "source": [
    "<a name=\"ht_lines\"></a>\n",
    "### 4. Generating HT lines from primary network\n",
    "\n"
   ]
  },
  {
   "cell_type": "code",
   "execution_count": null,
   "metadata": {},
   "outputs": [],
   "source": [
    "from primary_network_builder import PrimarySectionsBuilder\n",
    "from enums import ConductorType, NumPhase\n",
    "from line_section import HorizontalThreePhaseConfiguration\n",
    "from feeder_network import update_transformer_locations\n",
    "psections = PrimarySectionsBuilder(\n",
    "        pnet.get_network(),\n",
    "        ConductorType.OVERHEAD,\n",
    "        HorizontalThreePhaseConfiguration(9, 0.4, 'm'),\n",
    "        NumPhase.THREE,\n",
    "        False\n",
    "    )\n",
    "l_sections = psections.generate_primary_line_sections()\n",
    "r_nodes = pnet.get_trans_node_mapping()\n",
    "t = update_transformer_locations(r_nodes, t, l_sections)"
   ]
  },
  {
   "cell_type": "code",
   "execution_count": null,
   "metadata": {},
   "outputs": [],
   "source": [
    "from constants import PLOTLY_FORMAT_CUSTOMERS_DIST_TRANSFORMERS_HT_LINE\n",
    "network_builder = SimpleTwoLayerDistributionNetworkBuilder()\n",
    "n = TwoLayerNetworkBuilderDirector(\n",
    "    loads, \n",
    "    list(t.keys()),\n",
    "    l_sections,\n",
    "    [],\n",
    "    network_builder)\n",
    "p = PlotlyGISNetworkPlot(\n",
    "    n.get_network(),\n",
    "    API_KEY,\n",
    "    'light',\n",
    "    asset_specific_style=PLOTLY_FORMAT_CUSTOMERS_DIST_TRANSFORMERS_HT_LINE\n",
    ")\n",
    "p.show()"
   ]
  },
  {
   "cell_type": "markdown",
   "metadata": {},
   "source": [
    "<a name=\"lt_lines\"></a>\n",
    "### 5. Generating secondary network"
   ]
  },
  {
   "cell_type": "code",
   "execution_count": null,
   "metadata": {},
   "outputs": [],
   "source": [
    "from secondary_network_builder import SecondaryNetworkBuilder, SecondarySectionsBuilder\n",
    "s_sections = []\n",
    "for trans, cust_list in t.items():\n",
    "    sn = SecondaryNetworkBuilder(cust_list, trans, lambda x: 0.3908524*np.log(x) + 1.65180707, 0.4)\n",
    "    sn.update_network_with_ampacity()\n",
    "    sc = SecondarySectionsBuilder(\n",
    "        sn.get_network(),\n",
    "        ConductorType.OVERHEAD,\n",
    "        HorizontalThreePhaseConfiguration(9, 0.4, 'm'),\n",
    "        HorizontalThreePhaseConfiguration(-1, 0.4, 'm'),\n",
    "        NumPhase.THREE,\n",
    "        True\n",
    "    )\n",
    "    s_sections.extend(sc.generate_secondary_line_sections())"
   ]
  },
  {
   "cell_type": "code",
   "execution_count": null,
   "metadata": {},
   "outputs": [],
   "source": [
    "from constants import PLOTLY_FORMAT_ALL_ASSETS\n",
    "from enums import NetworkAsset\n",
    "PLOTLY_FORMAT_ALL_ASSETS['nodes'][NetworkAsset.DISTXFMR]['color'] = 'red'\n",
    "network_builder = SimpleTwoLayerDistributionNetworkBuilder()\n",
    "n = TwoLayerNetworkBuilderDirector(\n",
    "    loads, \n",
    "    list(t.keys()),\n",
    "    l_sections,\n",
    "    s_sections,\n",
    "    network_builder)\n",
    "p = PlotlyGISNetworkPlot(\n",
    "    n.get_network(),\n",
    "    'pk.eyJ1Ijoia2R1d2FkaSIsImEiOiJja3cweHpmM3YwYnk3MnVwamphNTd1ZG44In0.tsKgUvzpPVi4m1p3ekedaQ',\n",
    "    'light',\n",
    "    asset_specific_style=PLOTLY_FORMAT_ALL_ASSETS\n",
    ")\n",
    "p.show()"
   ]
  },
  {
   "cell_type": "code",
   "execution_count": null,
   "metadata": {},
   "outputs": [],
   "source": [
    "print(l_sections[0])\n",
    "print(s_sections[0])"
   ]
  },
  {
   "cell_type": "code",
   "execution_count": null,
   "metadata": {},
   "outputs": [],
   "source": []
  }
 ],
 "metadata": {
  "interpreter": {
   "hash": "a16b1cbf5433003e33a46e39b8d8694ea61f8fd65216fca85af86201f7fc1744"
  },
  "kernelspec": {
   "display_name": "Python 3 (ipykernel)",
   "language": "python",
   "name": "python3"
  },
  "language_info": {
   "codemirror_mode": {
    "name": "ipython",
    "version": 3
   },
   "file_extension": ".py",
   "mimetype": "text/x-python",
   "name": "python",
   "nbconvert_exporter": "python",
   "pygments_lexer": "ipython3",
   "version": "3.9.7"
  }
 },
 "nbformat": 4,
 "nbformat_minor": 2
}
