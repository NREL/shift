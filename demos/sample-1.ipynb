{
 "cells": [
  {
   "cell_type": "markdown",
   "metadata": {},
   "source": [
    "# Synthetic Feeder, Chennai\n",
    "\n",
    "\n",
    "In this tutorial we are going to create a synthetic distribution feeder model by leveraging OpenStreet buildings as well as road data in from Chennai, India.\n",
    "\n",
    "1. [Generating power system loads from Geometry objects](#load_to_geometry)\n",
    "2. [Using clustering algorithms to create distribution transformers to serve loads](#dist_trans)\n",
    "3. [ Generating high tension acyclic undirected network to connect distribution transformers using road network from OpenStreet data](#primary_network)\n",
    "4. [Generating HT lines from primary network](#ht_lines)\n",
    "5. [Generating secondary network](#lt_lines)\n",
    "\n",
    "Developed by: Kapil Duwadi (Kapil.Duwadi@nrel.gov), 2022-03-16\n"
   ]
  },
  {
   "cell_type": "markdown",
   "metadata": {},
   "source": [
    "Let's get the styling out of the way first. I like to see the width little bit bigger than what is there by default."
   ]
  },
  {
   "cell_type": "code",
   "execution_count": null,
   "metadata": {},
   "outputs": [],
   "source": [
    "from IPython.display import display, HTML\n",
    "display(HTML(\"<style>.container { width:80% !important; }</style>\"))"
   ]
  },
  {
   "cell_type": "markdown",
   "metadata": {},
   "source": [
    "<a name=\"load_to_geometry\"></a>\n",
    "### 1. Generating power system loads from Geometry objects\n",
    "Let's get all the buildings from chennai India and print total number of builidings along with sample building."
   ]
  },
  {
   "cell_type": "code",
   "execution_count": null,
   "metadata": {
    "scrolled": true
   },
   "outputs": [],
   "source": [
    "from shift.geometry import BuildingsFromPlace\n",
    "g = BuildingsFromPlace(\"Chennai, India\", max_dist=100)\n",
    "geometries = g.get_geometries()\n",
    "print(f\"Total number of buildings: {len(geometries)}\" +\n",
    "f\"\\nSample geometry: {geometries[0]}\")"
   ]
  },
  {
   "cell_type": "markdown",
   "metadata": {},
   "source": [
    "In order to create power system loads from geometries we need to tell how to assign phases, voltages and connection type for loads. In this case let's use RandomPhaseAllocator class to allocate phases to all geometries. Here we are saying all geometries are of single phase type and there are no two phase and three phase loads and finally pass all the geometries.\n",
    "\n",
    "Similarly we initialize simple voltage setter by passing line to line voltage of 13.2 kV. DefaultConnSetter class is created which will set the connection type to 'wye' for all geometries."
   ]
  },
  {
   "cell_type": "code",
   "execution_count": null,
   "metadata": {},
   "outputs": [],
   "source": [
    "from shift.load_builder import (RandomPhaseAllocator, \n",
    "                                SimpleVoltageSetter, DefaultConnSetter)\n",
    "rpa = RandomPhaseAllocator(100, 0, 0, geometries)\n",
    "svs = SimpleVoltageSetter(13.2)\n",
    "dcs = DefaultConnSetter()"
   ]
  },
  {
   "cell_type": "markdown",
   "metadata": {},
   "source": [
    "But wait how do we get power consumption data for the load. In order get consumption let's use building area info to get the kw.\n",
    "Let's say we know there is a piecewise linear function that relates building area with peak kW consumption."
   ]
  },
  {
   "cell_type": "code",
   "execution_count": null,
   "metadata": {},
   "outputs": [],
   "source": [
    "import matplotlib.pyplot as plt\n",
    "import plotly.express as px\n",
    "import pandas as pd\n",
    "\n",
    "area_to_kw_curve = [(0,5), (10, 5.0), (20, 18), (50, 30)]\n",
    "\n",
    "df = pd.DataFrame({\n",
    "    'Area in meter square' : [x[0] for x in area_to_kw_curve],\n",
    "    'Peak consumption in kW' : [x[1] for x in area_to_kw_curve]\n",
    "})\n",
    "fig = px.line(df, x=\"Area in meter square\", y=\"Peak consumption in kW\") \n",
    "fig.show()"
   ]
  },
  {
   "cell_type": "markdown",
   "metadata": {},
   "source": [
    "In order to use this piecewise linear function we can invoke PiecewiseBuildingAreaToConsumptionConverter class from load_builder and pass it as an argument to build the load. Let's see this class in action.\n"
   ]
  },
  {
   "cell_type": "code",
   "execution_count": null,
   "metadata": {},
   "outputs": [],
   "source": [
    "from shift.load_builder import PiecewiseBuildingAreaToConsumptionConverter\n",
    "pbacc = PiecewiseBuildingAreaToConsumptionConverter(area_to_kw_curve)\n",
    "area = 15\n",
    "print(f\"For area of {area} m^2 the consumption would be {pbacc.convert(area)}\")"
   ]
  },
  {
   "cell_type": "markdown",
   "metadata": {},
   "source": [
    "Let's build the loads from the geometries and print one them. Here let's try to build constant power factor of 1.0 type loads for simplicity.\n"
   ]
  },
  {
   "cell_type": "code",
   "execution_count": null,
   "metadata": {},
   "outputs": [],
   "source": [
    "from shift.load_builder import ConstantPowerFactorBuildingGeometryLoadBuilder\n",
    "from shift.load_builder import LoadBuilderEngineer\n",
    "loads = []\n",
    "for g in geometries:\n",
    "    builder = ConstantPowerFactorBuildingGeometryLoadBuilder(g, \n",
    "                            rpa, pbacc, svs, dcs, 1.0)\n",
    "    b = LoadBuilderEngineer(builder)\n",
    "    loads.append(b.get_load())\n",
    "print(len(loads), loads[0], loads[1])"
   ]
  },
  {
   "cell_type": "markdown",
   "metadata": {},
   "source": [
    "Let's visualize these loads on top of GIS map. That would be cool right ?. In order to do that let's invoke two layer distribution network first.\n",
    "\n",
    "<script src=\"https://cdn.plot.ly/plotly-2.12.1.min.js\"></script>"
   ]
  },
  {
   "cell_type": "code",
   "execution_count": null,
   "metadata": {},
   "outputs": [],
   "source": [
    "from shift.feeder_network import (SimpleTwoLayerDistributionNetworkBuilder, \n",
    "                                  TwoLayerNetworkBuilderDirector)\n",
    "network_builder = SimpleTwoLayerDistributionNetworkBuilder()\n",
    "network = TwoLayerNetworkBuilderDirector(loads, [], [], [], network_builder)"
   ]
  },
  {
   "cell_type": "code",
   "execution_count": null,
   "metadata": {
    "scrolled": true
   },
   "outputs": [],
   "source": [
    "from shift.network_plots import PlotlyGISNetworkPlot\n",
    "from shift.constants import PLOTLY_FORMAT_CUSTOMERS_ONLY\n",
    "\n",
    "API_KEY = None\n",
    "p = PlotlyGISNetworkPlot(\n",
    "        network.get_network(),\n",
    "        API_KEY,\n",
    "        'carto-darkmatter',\n",
    "        asset_specific_style=PLOTLY_FORMAT_CUSTOMERS_ONLY\n",
    "    )\n",
    "p.show()"
   ]
  },
  {
   "cell_type": "markdown",
   "metadata": {},
   "source": [
    "<a name=\"dist_trans\"></a>\n",
    "### 2. Using clustering algorithms to create distribution transformers to serve loads\n",
    "Next step is to use clustering algorithm to figure out best location for positioning distribution transformers. Kmeans clustering is one way of doing this. Let's say we want to have 20 disribution transformers for this feeder."
   ]
  },
  {
   "cell_type": "code",
   "execution_count": null,
   "metadata": {},
   "outputs": [],
   "source": [
    "from shift.clustering import KmeansClustering\n",
    "import numpy as np\n",
    "\n",
    "x_array = np.array([[load.longitude, load.latitude] \n",
    "                    for load in loads])\n",
    "# Try to use kW, along with location information for clustering \n",
    "cluster_ = KmeansClustering(2)\n",
    "clusters = cluster_.get_clusters(x_array)\n",
    "#print(f'Optimal number of clusters: {cluster_.optimal_clusters}')\n",
    "#cluster_.plot_scores()\n",
    "cluster_.plot_clusters()"
   ]
  },
  {
   "cell_type": "markdown",
   "metadata": {},
   "source": [
    "Let's use clustering algorithm to position distribution transformers. In order to create transformers from clusters we need to provide list of loads, clustering object, kV and connection type for both high tension and low tension side of transformers along with number of phase to be used to design transformers. The diversity factor function, power factor and adjustment_factor is used to compute kVA capacity for the transformer. The catalog is used to find nearest transformer capacity. Let's print the catalog and transformers."
   ]
  },
  {
   "cell_type": "code",
   "execution_count": null,
   "metadata": {},
   "outputs": [],
   "source": [
    "from shift.transformer_builder import (\n",
    "    ClusteringBasedTransformerLoadMapper)\n",
    "from shift.enums import (TransformerConnection, \n",
    "                         NumPhase, Phase)\n",
    "\n",
    "# Planned years of operation\n",
    "# Actual years of operation\n",
    "# Assumed forecasted annual load growth\n",
    "# Actual annual growth rate\n",
    "# Adjustment factor\n",
    "\n",
    "trans_builder = ClusteringBasedTransformerLoadMapper(\n",
    "    loads,\n",
    "    clustering_object = cluster_,\n",
    "    diversity_factor_func = lambda x: 0.3908524*np.log(x) + 1.65180707,\n",
    "    ht_kv = 13.2,\n",
    "    lt_kv = 0.4,\n",
    "    ht_conn = TransformerConnection.DELTA,\n",
    "    lt_conn = TransformerConnection.STAR,\n",
    "    ht_phase = Phase.ABC,\n",
    "    lt_phase = Phase.ABCN,\n",
    "    num_phase = NumPhase.THREE,\n",
    "    power_factor=0.9,\n",
    "    adjustment_factor=1.15\n",
    ")\n",
    "t  = trans_builder.get_transformer_load_mapping()"
   ]
  },
  {
   "cell_type": "markdown",
   "metadata": {},
   "source": [
    "Let's visualize the loads and transformers in GIS map."
   ]
  },
  {
   "cell_type": "code",
   "execution_count": null,
   "metadata": {},
   "outputs": [],
   "source": [
    "from shift.constants import (\n",
    "    PLOTLY_FORMAT_CUSTOMERS_AND_DIST_TRANSFORMERS_ONLY)\n",
    "network = TwoLayerNetworkBuilderDirector(loads, \n",
    "            list(t.keys()), [], [], network_builder)\n",
    "p = PlotlyGISNetworkPlot(\n",
    "        network.get_network(),\n",
    "        API_KEY,\n",
    "        'carto-darkmatter',\n",
    "        asset_specific_style=PLOTLY_FORMAT_CUSTOMERS_AND_DIST_TRANSFORMERS_ONLY\n",
    "    )\n",
    "p.show()"
   ]
  },
  {
   "cell_type": "markdown",
   "metadata": {},
   "source": [
    "<a name=\"primary_network\"></a>\n",
    "### 3. Generating high tension acyclic undirected network to connect distribution transformers using road network from OpenStreet data\n",
    "Let's try to get road network from chennai india. We will convert the road network to undirected graph and use minimum spanning tree to remove any loops. "
   ]
  },
  {
   "cell_type": "code",
   "execution_count": null,
   "metadata": {},
   "outputs": [],
   "source": [
    "from shift.graph import RoadNetworkFromPlace\n",
    "from shift.constants import PLOTLY_FORMAT_SIMPLE_NETWORK\n",
    "graph = RoadNetworkFromPlace('chennai, india', max_dist=100)\n",
    "graph.get_network()\n",
    "p = PlotlyGISNetworkPlot(\n",
    "            graph.updated_network,\n",
    "            API_KEY,\n",
    "            'carto-darkmatter',\n",
    "            asset_specific_style=PLOTLY_FORMAT_SIMPLE_NETWORK\n",
    "        )\n",
    "p.show()"
   ]
  },
  {
   "cell_type": "markdown",
   "metadata": {},
   "source": [
    "Let's create an instance of Primary Network Builder class and visulaize the generated network."
   ]
  },
  {
   "cell_type": "code",
   "execution_count": null,
   "metadata": {},
   "outputs": [],
   "source": [
    "from shift.primary_network_builder import PrimaryNetworkFromRoad\n",
    "pnet = PrimaryNetworkFromRoad(\n",
    "        graph,\n",
    "        t,\n",
    "        (80.2786311, 13.091658),\n",
    "        lambda x: 0.3908524*np.log(x) + 1.65180707,\n",
    "        13.2,\n",
    "        100\n",
    "    )\n",
    "pnet.update_network_with_ampacity()\n",
    "p = PlotlyGISNetworkPlot(\n",
    "            pnet.get_sliced_graph(),\n",
    "            API_KEY,\n",
    "            'carto-darkmatter',\n",
    "            asset_specific_style=PLOTLY_FORMAT_SIMPLE_NETWORK\n",
    "        )\n",
    "p.show()\n",
    "p = PlotlyGISNetworkPlot(\n",
    "            pnet.get_primary_network(),\n",
    "            API_KEY,\n",
    "            'carto-darkmatter',\n",
    "            asset_specific_style=PLOTLY_FORMAT_SIMPLE_NETWORK\n",
    "        )\n",
    "p.show()"
   ]
  },
  {
   "cell_type": "markdown",
   "metadata": {},
   "source": [
    "Let's try to plot ampacity of primary line section versus how far it is from the substation."
   ]
  },
  {
   "cell_type": "markdown",
   "metadata": {},
   "source": [
    "<a name=\"ht_lines\"></a>\n",
    "### 4. Generating HT lines from primary network\n",
    "\n"
   ]
  },
  {
   "cell_type": "code",
   "execution_count": null,
   "metadata": {},
   "outputs": [],
   "source": [
    "from shift.primary_network_builder import PrimarySectionsBuilder\n",
    "from shift.enums import ConductorType, NumPhase\n",
    "from shift.line_section import HorizontalThreePhaseConfiguration\n",
    "from shift.feeder_network import update_transformer_locations\n",
    "psections = PrimarySectionsBuilder(\n",
    "        pnet.get_network(),\n",
    "        ConductorType.OVERHEAD,\n",
    "        HorizontalThreePhaseConfiguration(9, 0.4, 'm'),\n",
    "        NumPhase.THREE,\n",
    "        False\n",
    "    )\n",
    "longest_length = pnet.get_longest_length_in_kvameter() / 1609.34\n",
    "k_drop = 2 / (longest_length)\n",
    "l_sections = psections.generate_primary_line_sections(k_drop, 11.0)\n",
    "r_nodes = pnet.get_trans_node_mapping()\n",
    "t = update_transformer_locations(r_nodes, t, l_sections)"
   ]
  },
  {
   "cell_type": "code",
   "execution_count": null,
   "metadata": {},
   "outputs": [],
   "source": [
    "from shift.constants import PLOTLY_FORMAT_CUSTOMERS_DIST_TRANSFORMERS_HT_LINE\n",
    "network_builder = SimpleTwoLayerDistributionNetworkBuilder()\n",
    "n = TwoLayerNetworkBuilderDirector(\n",
    "    loads, \n",
    "    list(t.keys()),\n",
    "    l_sections,\n",
    "    [],\n",
    "    network_builder)\n",
    "p = PlotlyGISNetworkPlot(\n",
    "    n.get_network(),\n",
    "    API_KEY,\n",
    "    'light',\n",
    "    asset_specific_style=PLOTLY_FORMAT_CUSTOMERS_DIST_TRANSFORMERS_HT_LINE\n",
    ")\n",
    "p.show()"
   ]
  },
  {
   "cell_type": "markdown",
   "metadata": {},
   "source": [
    "<a name=\"lt_lines\"></a>\n",
    "### 5. Generating secondary network"
   ]
  },
  {
   "cell_type": "code",
   "execution_count": null,
   "metadata": {},
   "outputs": [],
   "source": [
    "from shift.secondary_network_builder import SecondaryNetworkBuilder, SecondarySectionsBuilder\n",
    "s_sections = []\n",
    "for trans, cust_list in t.items():\n",
    "    sn = SecondaryNetworkBuilder(cust_list, trans, lambda x: 0.3908524*np.log(x) + 1.65180707, 0.4)\n",
    "    sn.update_network_with_ampacity()\n",
    "    sc = SecondarySectionsBuilder(\n",
    "        sn.get_network(),\n",
    "        ConductorType.OVERHEAD,\n",
    "        HorizontalThreePhaseConfiguration(9, 0.4, 'm'),\n",
    "        HorizontalThreePhaseConfiguration(-1, 0.4, 'm'),\n",
    "        NumPhase.THREE,\n",
    "        True\n",
    "    )\n",
    "    s_sections.extend(sc.generate_secondary_line_sections())"
   ]
  },
  {
   "cell_type": "code",
   "execution_count": null,
   "metadata": {},
   "outputs": [],
   "source": [
    "from shift.constants import PLOTLY_FORMAT_ALL_ASSETS\n",
    "from shift.enums import NetworkAsset\n",
    "PLOTLY_FORMAT_ALL_ASSETS['nodes'][NetworkAsset.DISTXFMR]['color'] = 'red'\n",
    "network_builder = SimpleTwoLayerDistributionNetworkBuilder()\n",
    "n = TwoLayerNetworkBuilderDirector(\n",
    "    loads, \n",
    "    list(t.keys()),\n",
    "    l_sections,\n",
    "    s_sections,\n",
    "    network_builder)\n",
    "p = PlotlyGISNetworkPlot(\n",
    "    n.get_network(),\n",
    "    None,\n",
    "    'carto-darkmatter',\n",
    "    asset_specific_style=PLOTLY_FORMAT_ALL_ASSETS\n",
    ")\n",
    "p.show()"
   ]
  }
 ],
 "metadata": {
  "kernelspec": {
   "display_name": "Python 3.9.0 ('shift')",
   "language": "python",
   "name": "python3"
  },
  "language_info": {
   "codemirror_mode": {
    "name": "ipython",
    "version": 3
   },
   "file_extension": ".py",
   "mimetype": "text/x-python",
   "name": "python",
   "nbconvert_exporter": "python",
   "pygments_lexer": "ipython3",
   "version": "3.9.0"
  },
  "vscode": {
   "interpreter": {
    "hash": "311fd2ad55fea96cbe9b59d038d1dc768bda198c9a3b08d689f90b4459570f11"
   }
  }
 },
 "nbformat": 4,
 "nbformat_minor": 4
}
